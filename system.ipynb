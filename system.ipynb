{
 "cells": [
  {
   "cell_type": "code",
   "execution_count": 25,
   "metadata": {},
   "outputs": [],
   "source": [
    "import pandas as pd\n",
    "import numpy as np\n",
    "from sklearn.metrics import accuracy_score, make_scorer, mean_squared_error\n",
    "from sklearn.model_selection import GridSearchCV, train_test_split\n",
    "from sklearn.linear_model import Ridge, LogisticRegression\n",
    "from sklearn import preprocessing\n",
    "\n",
    "import warnings\n",
    "warnings.filterwarnings(\"ignore\")"
   ]
  },
  {
   "cell_type": "code",
   "execution_count": 26,
   "metadata": {},
   "outputs": [],
   "source": [
    "# Cargar los datos\n",
    "path = \"/code/Python/Quiz_1/\"\n",
    "dataset = pd.read_csv(path + \"iris_dataset.csv\", header=0, sep=\";\", decimal=\",\")\n",
    "prueba = pd.read_csv(path + \"iris_prueba.csv\", header=0, sep=\";\", decimal=\",\")\n",
    "\n",
    "# Definir covariables y objetivo\n",
    "covariables = [x for x in dataset.columns if x != \"y\"]\n",
    "X = dataset[covariables]\n",
    "y = dataset[\"y\"].values.ravel()\n",
    "\n",
    "X_nuevo = prueba[covariables]\n",
    "y_nuevo = prueba[\"y\"].values.ravel()"
   ]
  },
  {
   "cell_type": "code",
   "execution_count": 27,
   "metadata": {},
   "outputs": [],
   "source": [
    "# División del conjunto de datos en entrenamiento y prueba\n",
    "X_train, X_test, y_train, y_test = train_test_split(X, y, test_size=0.5, random_state=123)\n",
    "\n",
    "# Escalado de los datos\n",
    "scaler = preprocessing.StandardScaler()\n",
    "X_train_Z = scaler.fit_transform(X_train)\n",
    "X_test_Z = scaler.transform(X_test)"
   ]
  },
  {
   "cell_type": "code",
   "execution_count": 28,
   "metadata": {},
   "outputs": [],
   "source": [
    "# Modelo y GridSearchCV para los datos de entrenamiento\n",
    "modelo1 = LogisticRegression(random_state=123)\n",
    "parametros = {'C': np.arange(0.1, 5.1, 0.1)}\n",
    "grilla = GridSearchCV(estimator=modelo1, param_grid=parametros, cv=5, scoring=make_scorer(accuracy_score), n_jobs=-1)\n",
    "grilla.fit(X_train_Z, y_train)\n",
    "\n",
    "# Obtener mejores parámetros\n",
    "best_params1 = grilla.best_params_\n"
   ]
  },
  {
   "cell_type": "code",
   "execution_count": 29,
   "metadata": {},
   "outputs": [],
   "source": [
    "# Modelo y GridSearchCV para los datos de prueba (aunque no es común hacer esto)\n",
    "modelo2 = LogisticRegression(random_state=123)\n",
    "grilla2 = GridSearchCV(estimator=modelo2, param_grid=parametros, cv=5, scoring=make_scorer(accuracy_score), n_jobs=-1)\n",
    "grilla2.fit(X_test_Z, y_test)\n",
    "\n",
    "# Obtener mejores parámetros\n",
    "best_params2 = grilla2.best_params_"
   ]
  },
  {
   "cell_type": "code",
   "execution_count": 30,
   "metadata": {},
   "outputs": [],
   "source": [
    "# Predicciones y cálculo de la precisión\n",
    "y_hat_test = grilla.predict(X_test_Z)\n",
    "y_hat_train = grilla2.predict(X_train_Z)\n",
    "\n",
    "u1 = accuracy_score(y_test, y_hat_test)\n",
    "u2 = accuracy_score(y_train, y_hat_train)"
   ]
  },
  {
   "cell_type": "code",
   "execution_count": 31,
   "metadata": {},
   "outputs": [],
   "source": [
    "if np.abs(u1 - u2) < 0.1:\n",
    "    # Entrenar un modelo completo con todo el conjunto de datos\n",
    "    modelo_completo = LogisticRegression(random_state=123)\n",
    "    grilla_completa = GridSearchCV(estimator=modelo_completo, param_grid=parametros, cv=5, scoring=make_scorer(accuracy_score), n_jobs=-1)\n",
    "\n",
    "    # Escalar todos los datos\n",
    "    X_Z = scaler.fit_transform(X)\n",
    "\n",
    "    # Entrenar el modelo con todos los datos\n",
    "    grilla_completa.fit(X_Z, y)\n",
    "else:\n",
    "    print(\"No cumple la condición np.abs(u1 - u2) < 0.1, continúa sin GridSearchCV.\")\n",
    "\n",
    "    modelo_completo = LogisticRegression(random_state=123)\n",
    "\n",
    "    # Escalar todos los datos\n",
    "    X_Z = scaler.fit_transform(X)\n",
    "\n",
    "    # Entrenar el modelo con todos los datos\n",
    "    modelo_completo.fit(X_Z, y)\n",
    "    grilla_completa = modelo_completo  # Usar el modelo sin GridSearchCV"
   ]
  },
  {
   "cell_type": "code",
   "execution_count": 32,
   "metadata": {},
   "outputs": [
    {
     "name": "stdout",
     "output_type": "stream",
     "text": [
      "Precisión en el nuevo conjunto de datos: 1.0\n"
     ]
    }
   ],
   "source": [
    "# Acurracy 0.33333 si\n",
    "# X_nuevo_Z = X_nuevo\n",
    "# y_hat_nuevo = grilla_completa.predict(X_nuevo_Z)\n",
    "\n",
    "# Acurracy 1 si\n",
    "X_nuevo_Z = scaler.transform(X_nuevo)\n",
    "y_hat_nuevo = grilla_completa.predict(X_nuevo_Z)\n",
    "\n",
    "accuracy = accuracy_score(y_nuevo, y_hat_nuevo)\n",
    "\n",
    "# Mostrar la precisión en el conjunto de prueba nuevo\n",
    "print(f\"Precisión en el nuevo conjunto de datos: {accuracy}\")\n"
   ]
  }
 ],
 "metadata": {
  "kernelspec": {
   "display_name": "api_class",
   "language": "python",
   "name": "python3"
  },
  "language_info": {
   "codemirror_mode": {
    "name": "ipython",
    "version": 3
   },
   "file_extension": ".py",
   "mimetype": "text/x-python",
   "name": "python",
   "nbconvert_exporter": "python",
   "pygments_lexer": "ipython3",
   "version": "3.10.12"
  }
 },
 "nbformat": 4,
 "nbformat_minor": 2
}
